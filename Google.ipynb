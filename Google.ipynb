{
 "cells": [
  {
   "cell_type": "code",
   "execution_count": 1,
   "id": "84698fd8",
   "metadata": {
    "_cell_guid": "b1076dfc-b9ad-4769-8c92-a6c4dae69d19",
    "_uuid": "8f2839f25d086af736a60e9eeb907d3b93b6e0e5",
    "execution": {
     "iopub.execute_input": "2022-05-29T14:40:30.655050Z",
     "iopub.status.busy": "2022-05-29T14:40:30.654585Z",
     "iopub.status.idle": "2022-05-29T14:40:30.664650Z",
     "shell.execute_reply": "2022-05-29T14:40:30.663797Z"
    },
    "papermill": {
     "duration": 0.017301,
     "end_time": "2022-05-29T14:40:30.667056",
     "exception": false,
     "start_time": "2022-05-29T14:40:30.649755",
     "status": "completed"
    },
    "tags": []
   },
   "outputs": [],
   "source": [
    "import os\n",
    "import pandas as pd\n",
    "from datetime import datetime"
   ]
  },
  {
   "cell_type": "code",
   "execution_count": 2,
   "id": "c5f61abe",
   "metadata": {
    "collapsed": true,
    "execution": {
     "iopub.execute_input": "2022-05-29T14:40:30.674061Z",
     "iopub.status.busy": "2022-05-29T14:40:30.673515Z",
     "iopub.status.idle": "2022-05-29T15:07:31.993876Z",
     "shell.execute_reply": "2022-05-29T15:07:31.992750Z"
    },
    "jupyter": {
     "outputs_hidden": true
    },
    "papermill": {
     "duration": 1621.334997,
     "end_time": "2022-05-29T15:07:32.005145",
     "exception": false,
     "start_time": "2022-05-29T14:40:30.670148",
     "status": "completed"
    },
    "tags": []
   },
   "outputs": [
    {
     "name": "stdout",
     "output_type": "stream",
     "text": [
      "2022-05-29 14:40:30.676880\n",
      "0:27:01.313187\n"
     ]
    }
   ],
   "source": [
    "start=datetime.now()\n",
    "print(start)\n",
    "df=[]\n",
    "path='/kaggle/input/AI4Code/train'\n",
    "for i in os.listdir(path):\n",
    "    data=pd.read_json(os.path.join(path,i))\n",
    "    data['id']=i.split('.json')[0]\n",
    "    df.append(data)\n",
    "print(datetime.now()-start)"
   ]
  },
  {
   "cell_type": "code",
   "execution_count": 3,
   "id": "b7a8fbf6",
   "metadata": {
    "execution": {
     "iopub.execute_input": "2022-05-29T15:07:32.013799Z",
     "iopub.status.busy": "2022-05-29T15:07:32.012798Z",
     "iopub.status.idle": "2022-05-29T15:08:03.741777Z",
     "shell.execute_reply": "2022-05-29T15:08:03.740734Z"
    },
    "papermill": {
     "duration": 31.73593,
     "end_time": "2022-05-29T15:08:03.744555",
     "exception": false,
     "start_time": "2022-05-29T15:07:32.008625",
     "status": "completed"
    },
    "tags": []
   },
   "outputs": [],
   "source": [
    "data=pd.concat(df, ignore_index=False)"
   ]
  },
  {
   "cell_type": "code",
   "execution_count": 4,
   "id": "92dd1b13",
   "metadata": {
    "execution": {
     "iopub.execute_input": "2022-05-29T15:08:03.751929Z",
     "iopub.status.busy": "2022-05-29T15:08:03.751504Z",
     "iopub.status.idle": "2022-05-29T15:09:35.099900Z",
     "shell.execute_reply": "2022-05-29T15:09:35.098879Z"
    },
    "papermill": {
     "duration": 91.355273,
     "end_time": "2022-05-29T15:09:35.102595",
     "exception": false,
     "start_time": "2022-05-29T15:08:03.747322",
     "status": "completed"
    },
    "tags": []
   },
   "outputs": [],
   "source": [
    "data.to_csv('/kaggle/working/data.csv',index=False)"
   ]
  },
  {
   "cell_type": "code",
   "execution_count": null,
   "id": "9249a125",
   "metadata": {
    "papermill": {
     "duration": 0.002368,
     "end_time": "2022-05-29T15:09:35.107837",
     "exception": false,
     "start_time": "2022-05-29T15:09:35.105469",
     "status": "completed"
    },
    "tags": []
   },
   "outputs": [],
   "source": []
  }
 ],
 "metadata": {
  "kernelspec": {
   "display_name": "Python 3",
   "language": "python",
   "name": "python3"
  },
  "language_info": {
   "codemirror_mode": {
    "name": "ipython",
    "version": 3
   },
   "file_extension": ".py",
   "mimetype": "text/x-python",
   "name": "python",
   "nbconvert_exporter": "python",
   "pygments_lexer": "ipython3",
   "version": "3.7.12"
  },
  "papermill": {
   "default_parameters": {},
   "duration": 1757.136735,
   "end_time": "2022-05-29T15:09:37.836889",
   "environment_variables": {},
   "exception": null,
   "input_path": "__notebook__.ipynb",
   "output_path": "__notebook__.ipynb",
   "parameters": {},
   "start_time": "2022-05-29T14:40:20.700154",
   "version": "2.3.4"
  }
 },
 "nbformat": 4,
 "nbformat_minor": 5
}
