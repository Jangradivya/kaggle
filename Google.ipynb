{
 "cells": [
  {
   "cell_type": "code",
   "execution_count": 1,
   "id": "2a6ef611",
   "metadata": {
    "_cell_guid": "b1076dfc-b9ad-4769-8c92-a6c4dae69d19",
    "_uuid": "8f2839f25d086af736a60e9eeb907d3b93b6e0e5",
    "execution": {
     "iopub.execute_input": "2022-06-01T05:57:04.657896Z",
     "iopub.status.busy": "2022-06-01T05:57:04.657513Z",
     "iopub.status.idle": "2022-06-01T05:57:04.665248Z",
     "shell.execute_reply": "2022-06-01T05:57:04.664569Z"
    },
    "papermill": {
     "duration": 0.01478,
     "end_time": "2022-06-01T05:57:04.667050",
     "exception": false,
     "start_time": "2022-06-01T05:57:04.652270",
     "status": "completed"
    },
    "tags": []
   },
   "outputs": [],
   "source": [
    "import os\n",
    "import pandas as pd\n",
    "from datetime import datetime"
   ]
  },
  {
   "cell_type": "code",
   "execution_count": 2,
   "id": "6da0382d",
   "metadata": {
    "execution": {
     "iopub.execute_input": "2022-06-01T05:57:04.677283Z",
     "iopub.status.busy": "2022-06-01T05:57:04.676699Z",
     "iopub.status.idle": "2022-06-01T05:57:04.680074Z",
     "shell.execute_reply": "2022-06-01T05:57:04.679505Z"
    },
    "papermill": {
     "duration": 0.008977,
     "end_time": "2022-06-01T05:57:04.681690",
     "exception": false,
     "start_time": "2022-06-01T05:57:04.672713",
     "status": "completed"
    },
    "tags": []
   },
   "outputs": [],
   "source": [
    "# start=datetime.now()\n",
    "# print(start)\n",
    "# df=[]\n",
    "# path='/kaggle/input/AI4Code/train'\n",
    "# for i in os.listdir(path):\n",
    "#     data=pd.read_json(os.path.join(path,i))\n",
    "#     data['id']=i.split('.json')[0]\n",
    "#     df.append(data)\n",
    "# print(datetime.now()-start)\n",
    "# data=pd.concat(df, ignore_index=False)\n",
    "# data.to_csv('/kaggle/working/data.csv',index=False)"
   ]
  },
  {
   "cell_type": "markdown",
   "id": "8c661da4",
   "metadata": {
    "papermill": {
     "duration": 0.002442,
     "end_time": "2022-06-01T05:57:04.686859",
     "exception": false,
     "start_time": "2022-06-01T05:57:04.684417",
     "status": "completed"
    },
    "tags": []
   },
   "source": [
    "## read train data"
   ]
  },
  {
   "cell_type": "code",
   "execution_count": 3,
   "id": "f7393011",
   "metadata": {
    "execution": {
     "iopub.execute_input": "2022-06-01T05:57:04.693564Z",
     "iopub.status.busy": "2022-06-01T05:57:04.693045Z",
     "iopub.status.idle": "2022-06-01T05:57:55.214561Z",
     "shell.execute_reply": "2022-06-01T05:57:55.213532Z"
    },
    "papermill": {
     "duration": 50.527768,
     "end_time": "2022-06-01T05:57:55.217237",
     "exception": false,
     "start_time": "2022-06-01T05:57:04.689469",
     "status": "completed"
    },
    "tags": []
   },
   "outputs": [],
   "source": [
    "train=pd.read_csv(r'/kaggle/input/saved-data/data.csv')"
   ]
  },
  {
   "cell_type": "code",
   "execution_count": 4,
   "id": "0beb39e0",
   "metadata": {
    "execution": {
     "iopub.execute_input": "2022-06-01T05:57:55.224930Z",
     "iopub.status.busy": "2022-06-01T05:57:55.224183Z",
     "iopub.status.idle": "2022-06-01T05:57:55.231526Z",
     "shell.execute_reply": "2022-06-01T05:57:55.230609Z"
    },
    "papermill": {
     "duration": 0.013735,
     "end_time": "2022-06-01T05:57:55.234190",
     "exception": false,
     "start_time": "2022-06-01T05:57:55.220455",
     "status": "completed"
    },
    "tags": []
   },
   "outputs": [
    {
     "data": {
      "text/plain": [
       "(6370650, 3)"
      ]
     },
     "execution_count": 4,
     "metadata": {},
     "output_type": "execute_result"
    }
   ],
   "source": [
    "train.shape"
   ]
  },
  {
   "cell_type": "markdown",
   "id": "de694c6d",
   "metadata": {
    "papermill": {
     "duration": 0.002757,
     "end_time": "2022-06-01T05:57:55.240069",
     "exception": false,
     "start_time": "2022-06-01T05:57:55.237312",
     "status": "completed"
    },
    "tags": []
   },
   "source": [
    "## Read test data"
   ]
  },
  {
   "cell_type": "code",
   "execution_count": 5,
   "id": "4292967e",
   "metadata": {
    "execution": {
     "iopub.execute_input": "2022-06-01T05:57:55.247412Z",
     "iopub.status.busy": "2022-06-01T05:57:55.246611Z",
     "iopub.status.idle": "2022-06-01T05:57:55.299392Z",
     "shell.execute_reply": "2022-06-01T05:57:55.298045Z"
    },
    "papermill": {
     "duration": 0.058498,
     "end_time": "2022-06-01T05:57:55.301397",
     "exception": false,
     "start_time": "2022-06-01T05:57:55.242899",
     "status": "completed"
    },
    "tags": []
   },
   "outputs": [
    {
     "name": "stdout",
     "output_type": "stream",
     "text": [
      "2022-06-01 05:57:55.249720\n",
      "0:00:00.046004\n"
     ]
    }
   ],
   "source": [
    "start=datetime.now()\n",
    "print(start)\n",
    "df=[]\n",
    "path='/kaggle/input/AI4Code/test'\n",
    "for i in os.listdir(path):\n",
    "    data=pd.read_json(os.path.join(path,i))\n",
    "    data['id']=i.split('.json')[0]\n",
    "    df.append(data)\n",
    "print(datetime.now()-start)"
   ]
  },
  {
   "cell_type": "code",
   "execution_count": 6,
   "id": "66b6ced3",
   "metadata": {
    "execution": {
     "iopub.execute_input": "2022-06-01T05:57:55.309674Z",
     "iopub.status.busy": "2022-06-01T05:57:55.308975Z",
     "iopub.status.idle": "2022-06-01T05:57:55.315097Z",
     "shell.execute_reply": "2022-06-01T05:57:55.314472Z"
    },
    "papermill": {
     "duration": 0.012251,
     "end_time": "2022-06-01T05:57:55.316839",
     "exception": false,
     "start_time": "2022-06-01T05:57:55.304588",
     "status": "completed"
    },
    "tags": []
   },
   "outputs": [],
   "source": [
    "test=pd.concat(df, ignore_index=False)"
   ]
  },
  {
   "cell_type": "code",
   "execution_count": 7,
   "id": "67449c3a",
   "metadata": {
    "execution": {
     "iopub.execute_input": "2022-06-01T05:57:55.324367Z",
     "iopub.status.busy": "2022-06-01T05:57:55.323879Z",
     "iopub.status.idle": "2022-06-01T05:57:55.330020Z",
     "shell.execute_reply": "2022-06-01T05:57:55.329367Z"
    },
    "papermill": {
     "duration": 0.01168,
     "end_time": "2022-06-01T05:57:55.331686",
     "exception": false,
     "start_time": "2022-06-01T05:57:55.320006",
     "status": "completed"
    },
    "tags": []
   },
   "outputs": [
    {
     "data": {
      "text/plain": [
       "(89, 3)"
      ]
     },
     "execution_count": 7,
     "metadata": {},
     "output_type": "execute_result"
    }
   ],
   "source": [
    "test.shape"
   ]
  },
  {
   "cell_type": "code",
   "execution_count": 8,
   "id": "1ef6e5da",
   "metadata": {
    "execution": {
     "iopub.execute_input": "2022-06-01T05:57:55.339325Z",
     "iopub.status.busy": "2022-06-01T05:57:55.338794Z",
     "iopub.status.idle": "2022-06-01T05:57:55.354420Z",
     "shell.execute_reply": "2022-06-01T05:57:55.353557Z"
    },
    "papermill": {
     "duration": 0.021496,
     "end_time": "2022-06-01T05:57:55.356208",
     "exception": false,
     "start_time": "2022-06-01T05:57:55.334712",
     "status": "completed"
    },
    "tags": []
   },
   "outputs": [
    {
     "data": {
      "text/html": [
       "<div>\n",
       "<style scoped>\n",
       "    .dataframe tbody tr th:only-of-type {\n",
       "        vertical-align: middle;\n",
       "    }\n",
       "\n",
       "    .dataframe tbody tr th {\n",
       "        vertical-align: top;\n",
       "    }\n",
       "\n",
       "    .dataframe thead th {\n",
       "        text-align: right;\n",
       "    }\n",
       "</style>\n",
       "<table border=\"1\" class=\"dataframe\">\n",
       "  <thead>\n",
       "    <tr style=\"text-align: right;\">\n",
       "      <th></th>\n",
       "      <th>cell_type</th>\n",
       "      <th>source</th>\n",
       "      <th>id</th>\n",
       "    </tr>\n",
       "  </thead>\n",
       "  <tbody>\n",
       "    <tr>\n",
       "      <th>ddfd239c</th>\n",
       "      <td>code</td>\n",
       "      <td>import numpy as np # linear algebra\\nimport pa...</td>\n",
       "      <td>0009d135ece78d</td>\n",
       "    </tr>\n",
       "    <tr>\n",
       "      <th>c6cd22db</th>\n",
       "      <td>code</td>\n",
       "      <td>df = pd.read_csv('/kaggle/input/breast-cancer-...</td>\n",
       "      <td>0009d135ece78d</td>\n",
       "    </tr>\n",
       "    <tr>\n",
       "      <th>1372ae9b</th>\n",
       "      <td>code</td>\n",
       "      <td>numerical_data = df.loc[:, ~df.columns.isin(['...</td>\n",
       "      <td>0009d135ece78d</td>\n",
       "    </tr>\n",
       "    <tr>\n",
       "      <th>90ed07ab</th>\n",
       "      <td>code</td>\n",
       "      <td>def comparison_plot_maker(data_1, data_2, name...</td>\n",
       "      <td>0009d135ece78d</td>\n",
       "    </tr>\n",
       "    <tr>\n",
       "      <th>7f388a41</th>\n",
       "      <td>code</td>\n",
       "      <td># Ploting data with different columns\\n#######...</td>\n",
       "      <td>0009d135ece78d</td>\n",
       "    </tr>\n",
       "    <tr>\n",
       "      <th>...</th>\n",
       "      <td>...</td>\n",
       "      <td>...</td>\n",
       "      <td>...</td>\n",
       "    </tr>\n",
       "    <tr>\n",
       "      <th>d2f722a5</th>\n",
       "      <td>markdown</td>\n",
       "      <td>## Conclusion\\nI tried to do a little bit of e...</td>\n",
       "      <td>0010a919d60e4f</td>\n",
       "    </tr>\n",
       "    <tr>\n",
       "      <th>8a0842b8</th>\n",
       "      <td>markdown</td>\n",
       "      <td>Good, now we can look at the updated dataset</td>\n",
       "      <td>0010a919d60e4f</td>\n",
       "    </tr>\n",
       "    <tr>\n",
       "      <th>03cb1feb</th>\n",
       "      <td>markdown</td>\n",
       "      <td>To correctly choose the right model for our ta...</td>\n",
       "      <td>0010a919d60e4f</td>\n",
       "    </tr>\n",
       "    <tr>\n",
       "      <th>83514fa3</th>\n",
       "      <td>markdown</td>\n",
       "      <td>As we probably expected, `Sex` is the most imp...</td>\n",
       "      <td>0010a919d60e4f</td>\n",
       "    </tr>\n",
       "    <tr>\n",
       "      <th>d3f5c397</th>\n",
       "      <td>markdown</td>\n",
       "      <td>We have 177 rows with missing `Age` and 687 ro...</td>\n",
       "      <td>0010a919d60e4f</td>\n",
       "    </tr>\n",
       "  </tbody>\n",
       "</table>\n",
       "<p>89 rows × 3 columns</p>\n",
       "</div>"
      ],
      "text/plain": [
       "         cell_type                                             source  \\\n",
       "ddfd239c      code  import numpy as np # linear algebra\\nimport pa...   \n",
       "c6cd22db      code  df = pd.read_csv('/kaggle/input/breast-cancer-...   \n",
       "1372ae9b      code  numerical_data = df.loc[:, ~df.columns.isin(['...   \n",
       "90ed07ab      code  def comparison_plot_maker(data_1, data_2, name...   \n",
       "7f388a41      code  # Ploting data with different columns\\n#######...   \n",
       "...            ...                                                ...   \n",
       "d2f722a5  markdown  ## Conclusion\\nI tried to do a little bit of e...   \n",
       "8a0842b8  markdown       Good, now we can look at the updated dataset   \n",
       "03cb1feb  markdown  To correctly choose the right model for our ta...   \n",
       "83514fa3  markdown  As we probably expected, `Sex` is the most imp...   \n",
       "d3f5c397  markdown  We have 177 rows with missing `Age` and 687 ro...   \n",
       "\n",
       "                      id  \n",
       "ddfd239c  0009d135ece78d  \n",
       "c6cd22db  0009d135ece78d  \n",
       "1372ae9b  0009d135ece78d  \n",
       "90ed07ab  0009d135ece78d  \n",
       "7f388a41  0009d135ece78d  \n",
       "...                  ...  \n",
       "d2f722a5  0010a919d60e4f  \n",
       "8a0842b8  0010a919d60e4f  \n",
       "03cb1feb  0010a919d60e4f  \n",
       "83514fa3  0010a919d60e4f  \n",
       "d3f5c397  0010a919d60e4f  \n",
       "\n",
       "[89 rows x 3 columns]"
      ]
     },
     "execution_count": 8,
     "metadata": {},
     "output_type": "execute_result"
    }
   ],
   "source": [
    "test"
   ]
  },
  {
   "cell_type": "code",
   "execution_count": 9,
   "id": "5a169e1d",
   "metadata": {
    "execution": {
     "iopub.execute_input": "2022-06-01T05:57:55.364398Z",
     "iopub.status.busy": "2022-06-01T05:57:55.363627Z",
     "iopub.status.idle": "2022-06-01T05:57:55.377479Z",
     "shell.execute_reply": "2022-06-01T05:57:55.376584Z"
    },
    "papermill": {
     "duration": 0.01971,
     "end_time": "2022-06-01T05:57:55.379218",
     "exception": false,
     "start_time": "2022-06-01T05:57:55.359508",
     "status": "completed"
    },
    "tags": []
   },
   "outputs": [
    {
     "data": {
      "text/html": [
       "<div>\n",
       "<style scoped>\n",
       "    .dataframe tbody tr th:only-of-type {\n",
       "        vertical-align: middle;\n",
       "    }\n",
       "\n",
       "    .dataframe tbody tr th {\n",
       "        vertical-align: top;\n",
       "    }\n",
       "\n",
       "    .dataframe thead th {\n",
       "        text-align: right;\n",
       "    }\n",
       "</style>\n",
       "<table border=\"1\" class=\"dataframe\">\n",
       "  <thead>\n",
       "    <tr style=\"text-align: right;\">\n",
       "      <th></th>\n",
       "      <th>cell_type</th>\n",
       "      <th>source</th>\n",
       "      <th>id</th>\n",
       "    </tr>\n",
       "  </thead>\n",
       "  <tbody>\n",
       "    <tr>\n",
       "      <th>ddfd239c</th>\n",
       "      <td>code</td>\n",
       "      <td>import numpy as np # linear algebra\\nimport pa...</td>\n",
       "      <td>0009d135ece78d</td>\n",
       "    </tr>\n",
       "    <tr>\n",
       "      <th>c6cd22db</th>\n",
       "      <td>code</td>\n",
       "      <td>df = pd.read_csv('/kaggle/input/breast-cancer-...</td>\n",
       "      <td>0009d135ece78d</td>\n",
       "    </tr>\n",
       "    <tr>\n",
       "      <th>1372ae9b</th>\n",
       "      <td>code</td>\n",
       "      <td>numerical_data = df.loc[:, ~df.columns.isin(['...</td>\n",
       "      <td>0009d135ece78d</td>\n",
       "    </tr>\n",
       "    <tr>\n",
       "      <th>90ed07ab</th>\n",
       "      <td>code</td>\n",
       "      <td>def comparison_plot_maker(data_1, data_2, name...</td>\n",
       "      <td>0009d135ece78d</td>\n",
       "    </tr>\n",
       "    <tr>\n",
       "      <th>7f388a41</th>\n",
       "      <td>code</td>\n",
       "      <td># Ploting data with different columns\\n#######...</td>\n",
       "      <td>0009d135ece78d</td>\n",
       "    </tr>\n",
       "    <tr>\n",
       "      <th>2843a25a</th>\n",
       "      <td>code</td>\n",
       "      <td># Scaling Data\\nscaler = StandardScaler()\\nsca...</td>\n",
       "      <td>0009d135ece78d</td>\n",
       "    </tr>\n",
       "    <tr>\n",
       "      <th>06dbf8cf</th>\n",
       "      <td>code</td>\n",
       "      <td># 3. Implementing PCA on X (green for benign; ...</td>\n",
       "      <td>0009d135ece78d</td>\n",
       "    </tr>\n",
       "    <tr>\n",
       "      <th>f9893819</th>\n",
       "      <td>markdown</td>\n",
       "      <td># Scaling Data ⚖\\nLet's scale the data so PCA ...</td>\n",
       "      <td>0009d135ece78d</td>\n",
       "    </tr>\n",
       "    <tr>\n",
       "      <th>ba55e576</th>\n",
       "      <td>markdown</td>\n",
       "      <td>## Testing Plots &gt;w&gt;\\nLet's these mystery soli...</td>\n",
       "      <td>0009d135ece78d</td>\n",
       "    </tr>\n",
       "    <tr>\n",
       "      <th>39e937ec</th>\n",
       "      <td>markdown</td>\n",
       "      <td>## Plotting PCA 📊\\nThus, the sun boils down to...</td>\n",
       "      <td>0009d135ece78d</td>\n",
       "    </tr>\n",
       "    <tr>\n",
       "      <th>e25aa9bd</th>\n",
       "      <td>markdown</td>\n",
       "      <td># Functions 🎉\\nNot in real life functions, but...</td>\n",
       "      <td>0009d135ece78d</td>\n",
       "    </tr>\n",
       "    <tr>\n",
       "      <th>0a226b6a</th>\n",
       "      <td>markdown</td>\n",
       "      <td># Importing Liberaries 📚\\nLet's first import s...</td>\n",
       "      <td>0009d135ece78d</td>\n",
       "    </tr>\n",
       "    <tr>\n",
       "      <th>8cb8d28a</th>\n",
       "      <td>markdown</td>\n",
       "      <td># Reading Data 👓\\nHere is everyone, reading an...</td>\n",
       "      <td>0009d135ece78d</td>\n",
       "    </tr>\n",
       "  </tbody>\n",
       "</table>\n",
       "</div>"
      ],
      "text/plain": [
       "         cell_type                                             source  \\\n",
       "ddfd239c      code  import numpy as np # linear algebra\\nimport pa...   \n",
       "c6cd22db      code  df = pd.read_csv('/kaggle/input/breast-cancer-...   \n",
       "1372ae9b      code  numerical_data = df.loc[:, ~df.columns.isin(['...   \n",
       "90ed07ab      code  def comparison_plot_maker(data_1, data_2, name...   \n",
       "7f388a41      code  # Ploting data with different columns\\n#######...   \n",
       "2843a25a      code  # Scaling Data\\nscaler = StandardScaler()\\nsca...   \n",
       "06dbf8cf      code  # 3. Implementing PCA on X (green for benign; ...   \n",
       "f9893819  markdown  # Scaling Data ⚖\\nLet's scale the data so PCA ...   \n",
       "ba55e576  markdown  ## Testing Plots >w>\\nLet's these mystery soli...   \n",
       "39e937ec  markdown  ## Plotting PCA 📊\\nThus, the sun boils down to...   \n",
       "e25aa9bd  markdown  # Functions 🎉\\nNot in real life functions, but...   \n",
       "0a226b6a  markdown  # Importing Liberaries 📚\\nLet's first import s...   \n",
       "8cb8d28a  markdown  # Reading Data 👓\\nHere is everyone, reading an...   \n",
       "\n",
       "                      id  \n",
       "ddfd239c  0009d135ece78d  \n",
       "c6cd22db  0009d135ece78d  \n",
       "1372ae9b  0009d135ece78d  \n",
       "90ed07ab  0009d135ece78d  \n",
       "7f388a41  0009d135ece78d  \n",
       "2843a25a  0009d135ece78d  \n",
       "06dbf8cf  0009d135ece78d  \n",
       "f9893819  0009d135ece78d  \n",
       "ba55e576  0009d135ece78d  \n",
       "39e937ec  0009d135ece78d  \n",
       "e25aa9bd  0009d135ece78d  \n",
       "0a226b6a  0009d135ece78d  \n",
       "8cb8d28a  0009d135ece78d  "
      ]
     },
     "execution_count": 9,
     "metadata": {},
     "output_type": "execute_result"
    }
   ],
   "source": [
    "test[test.id=='0009d135ece78d']"
   ]
  },
  {
   "cell_type": "code",
   "execution_count": null,
   "id": "0198d1e1",
   "metadata": {
    "papermill": {
     "duration": 0.003401,
     "end_time": "2022-06-01T05:57:55.386349",
     "exception": false,
     "start_time": "2022-06-01T05:57:55.382948",
     "status": "completed"
    },
    "tags": []
   },
   "outputs": [],
   "source": []
  }
 ],
 "metadata": {
  "kernelspec": {
   "display_name": "Python 3",
   "language": "python",
   "name": "python3"
  },
  "language_info": {
   "codemirror_mode": {
    "name": "ipython",
    "version": 3
   },
   "file_extension": ".py",
   "mimetype": "text/x-python",
   "name": "python",
   "nbconvert_exporter": "python",
   "pygments_lexer": "ipython3",
   "version": "3.7.12"
  },
  "papermill": {
   "default_parameters": {},
   "duration": 60.158974,
   "end_time": "2022-06-01T05:57:56.412727",
   "environment_variables": {},
   "exception": null,
   "input_path": "__notebook__.ipynb",
   "output_path": "__notebook__.ipynb",
   "parameters": {},
   "start_time": "2022-06-01T05:56:56.253753",
   "version": "2.3.4"
  }
 },
 "nbformat": 4,
 "nbformat_minor": 5
}
